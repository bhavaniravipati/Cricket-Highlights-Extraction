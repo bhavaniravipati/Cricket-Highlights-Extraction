{
 "cells": [
  {
   "cell_type": "code",
   "execution_count": null,
   "metadata": {},
   "outputs": [],
   "source": [
    "import cv2\n",
    "from moviepy.editor import VideoFileClip\n",
    "from skimage.measure import compare_ssim\n",
    "import os\n",
    "from natsort import natsorted\n",
    "\n",
    "def split_video(start,end):\n",
    "\n",
    "    my_clip = VideoFileClip(\"/Users/bhavanirishitharavipati/Desktop/Full Match IPL 2010 MATCH32 - CSK vs RR, 2010-04-03 - YouTube.mp4\" )\n",
    "    # print(\"Duration of video : \", my_clip.duration)\n",
    "    # print(\"FPS : \", my_clip.fps)\n",
    "\n",
    "    new_clip = my_clip.subclip(start,end)\n",
    "    print('new clip duration : ',new_clip.duration)\n",
    "    new_clip.write_videofile(\"/Users/bhavanirishitharavipati/Desktop/sample2_clip.mp4\", codec=\"libx264\", fps=25)\n",
    "    new_clip.close()\n",
    "\n",
    "split_video(3600, 3900)"
   ]
  }
 ],
 "metadata": {
  "kernelspec": {
   "display_name": "Python 3",
   "language": "python",
   "name": "python3"
  },
  "language_info": {
   "codemirror_mode": {
    "name": "ipython",
    "version": 3
   },
   "file_extension": ".py",
   "mimetype": "text/x-python",
   "name": "python",
   "nbconvert_exporter": "python",
   "pygments_lexer": "ipython3",
   "version": "3.7.0"
  }
 },
 "nbformat": 4,
 "nbformat_minor": 2
}
